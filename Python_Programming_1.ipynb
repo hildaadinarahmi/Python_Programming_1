{
  "nbformat": 4,
  "nbformat_minor": 0,
  "metadata": {
    "colab": {
      "provenance": []
    },
    "kernelspec": {
      "name": "python3",
      "display_name": "Python 3"
    },
    "language_info": {
      "name": "python"
    }
  },
  "cells": [
    {
      "cell_type": "markdown",
      "source": [
        "#intro to pytoh"
      ],
      "metadata": {
        "id": "bJklj-nwqGh9"
      }
    },
    {
      "cell_type": "markdown",
      "source": [
        "##Print command"
      ],
      "metadata": {
        "id": "8S3s2nv-qNUL"
      }
    },
    {
      "cell_type": "code",
      "execution_count": null,
      "metadata": {
        "colab": {
          "base_uri": "https://localhost:8080/"
        },
        "id": "n-fxARDYpwW4",
        "outputId": "e19a2d55-d1fe-42d8-ae58-fa1d595c3b58"
      },
      "outputs": [
        {
          "output_type": "stream",
          "name": "stdout",
          "text": [
            "Hilda\n",
            "23\n"
          ]
        }
      ],
      "source": [
        "print (\"Hilda\")\n",
        "print (23)"
      ]
    },
    {
      "cell_type": "markdown",
      "source": [],
      "metadata": {
        "id": "ZdZVWArdqJ7q"
      }
    },
    {
      "cell_type": "markdown",
      "source": [
        "##sequence\n"
      ],
      "metadata": {
        "id": "ThMV2AnSrrhE"
      }
    },
    {
      "cell_type": "code",
      "source": [
        "# command + / ini adalah command untuk komentar\n",
        "# sequence adalah step running program dari atas ke bawah\n",
        "x =0\n",
        "print (x)\n",
        "print (\"/\")\n",
        "print (\"//\")\n",
        "print (\"///\")\n",
        "print (\"////\")"
      ],
      "metadata": {
        "colab": {
          "base_uri": "https://localhost:8080/"
        },
        "id": "8-15VfxDrvi6",
        "outputId": "3051cfaf-9af4-462e-998e-25c85eb22b10"
      },
      "execution_count": null,
      "outputs": [
        {
          "output_type": "stream",
          "name": "stdout",
          "text": [
            "0\n",
            "/\n",
            "//\n",
            "///\n",
            "////\n"
          ]
        }
      ]
    },
    {
      "cell_type": "markdown",
      "source": [],
      "metadata": {
        "id": "YSC0HDXXruuL"
      }
    },
    {
      "cell_type": "markdown",
      "source": [
        "## Variable dan Tipe Data"
      ],
      "metadata": {
        "id": "qMJd875R1xpc"
      }
    },
    {
      "cell_type": "code",
      "source": [
        "#Boolean\n",
        "laki = False\n",
        "perempuan = True\n",
        "\n",
        "print (perempuan)\n",
        "print (laki)"
      ],
      "metadata": {
        "colab": {
          "base_uri": "https://localhost:8080/"
        },
        "id": "SVgbHnLm134l",
        "outputId": "2fdff099-78bf-42b1-af46-980e09be17f4"
      },
      "execution_count": null,
      "outputs": [
        {
          "output_type": "stream",
          "name": "stdout",
          "text": [
            "True\n",
            "False\n"
          ]
        }
      ]
    },
    {
      "cell_type": "code",
      "source": [
        "#String\n",
        "nama = \"Hilda\"\n",
        "jabatan = \"siswa\"\n",
        "\n",
        "print(nama, \"memiliki jabatan sebagai\", jabatan)\n",
        "print (nama + \" memiliki jabatan sebagai \" + jabatan)\n"
      ],
      "metadata": {
        "colab": {
          "base_uri": "https://localhost:8080/"
        },
        "id": "UxuIOTW52JM4",
        "outputId": "d4273ef9-7459-41ed-ab68-f7b59c9d472f"
      },
      "execution_count": null,
      "outputs": [
        {
          "output_type": "stream",
          "name": "stdout",
          "text": [
            "Hilda memiliki jabatan sebagai siswa\n",
            "Hilda memiliki jabatan sebagai siswa\n"
          ]
        }
      ]
    },
    {
      "cell_type": "code",
      "source": [
        "#Integer\n",
        "umur = 24\n",
        "tahun_kelahiran = 2000\n",
        "tahun_sekarang = 2024\n",
        "\n",
        "print(umur)\n",
        "print(tahun_sekarang-tahun_kelahiran)"
      ],
      "metadata": {
        "colab": {
          "base_uri": "https://localhost:8080/"
        },
        "id": "8VRrA9bt29by",
        "outputId": "8b42b7fe-8b53-4719-9a02-70ad2d5d17fc"
      },
      "execution_count": null,
      "outputs": [
        {
          "output_type": "stream",
          "name": "stdout",
          "text": [
            "24\n",
            "24\n"
          ]
        }
      ]
    },
    {
      "cell_type": "code",
      "source": [
        "#Float\n",
        "ipk = 3.45 #Ada koma/desimal\n",
        "\n",
        "print(\"ipk anda adalah\", ipk)"
      ],
      "metadata": {
        "colab": {
          "base_uri": "https://localhost:8080/"
        },
        "id": "oHqQTA_g36dg",
        "outputId": "d6e52d76-cc7d-41a2-ab44-1f87a0e7ee94"
      },
      "execution_count": null,
      "outputs": [
        {
          "output_type": "stream",
          "name": "stdout",
          "text": [
            "ipk anda adalah 3.45\n"
          ]
        }
      ]
    },
    {
      "cell_type": "code",
      "source": [
        "#Print Type\n",
        "print(type(laki))\n",
        "print(type(nama))\n",
        "print(type(umur))\n",
        "print(type(ipk))\n"
      ],
      "metadata": {
        "colab": {
          "base_uri": "https://localhost:8080/"
        },
        "id": "60vjkZoF4MR5",
        "outputId": "a5fc67d5-63ca-490c-cbe1-56fa7129494e"
      },
      "execution_count": null,
      "outputs": [
        {
          "output_type": "stream",
          "name": "stdout",
          "text": [
            "<class 'bool'>\n",
            "<class 'str'>\n",
            "<class 'int'>\n",
            "<class 'float'>\n"
          ]
        }
      ]
    },
    {
      "cell_type": "markdown",
      "source": [
        "#Module"
      ],
      "metadata": {
        "id": "e2U_ILkCDknY"
      }
    },
    {
      "cell_type": "code",
      "source": [
        "#Simple module file\n",
        "with open('mymodule.py', 'w') as f:\n",
        "  f.write(\"\"\"\n",
        "def greet(name):\n",
        "    return f\"Hello, {name}!\"\n",
        "    \"\"\")"
      ],
      "metadata": {
        "id": "RVaXKrmJDqSy"
      },
      "execution_count": null,
      "outputs": []
    },
    {
      "cell_type": "code",
      "source": [
        "import mymodule\n",
        "\n",
        "# Use the fuction from the module\n",
        "print(mymodule.greet(\"Hilda\"))\n"
      ],
      "metadata": {
        "colab": {
          "base_uri": "https://localhost:8080/"
        },
        "id": "huAGyhUjEFsK",
        "outputId": "1189a1f0-5725-4bc9-90ee-5814ae1175cc"
      },
      "execution_count": null,
      "outputs": [
        {
          "output_type": "stream",
          "name": "stdout",
          "text": [
            "Hello, Hilda!\n"
          ]
        }
      ]
    },
    {
      "cell_type": "markdown",
      "source": [],
      "metadata": {
        "id": "5mZ9ABMHEhXp"
      }
    },
    {
      "cell_type": "markdown",
      "source": [
        "#Package"
      ],
      "metadata": {
        "id": "8lqe9D-fUCF4"
      }
    },
    {
      "cell_type": "code",
      "source": [
        "import os\n",
        "# Create the package directory / folder\n",
        "os.makedirs('mypackage', exist_ok=True)\n",
        "\n",
        "# Create module1.py\n",
        "with open ('mypackage/module1.py', 'w') as f:\n",
        "  f.write(\"\"\"\n",
        "def add(a,b):\n",
        "    return a + b\n",
        "    \"\"\")\n",
        "\n",
        "  # Create module2.py\n",
        "  with open ('mypackage/module2.py', 'w') as f:\n",
        "    f.write(\"\"\"\n",
        "def substract(a, b):\n",
        "      return a - b\n",
        "      \"\"\")\n",
        "\n",
        "    # Create an empty__init__.py file to mark the directory as a pacakage\n",
        "    with open ('mypackage/__init__.py', 'w') as f:\n",
        "      f.write(\"\")"
      ],
      "metadata": {
        "id": "Ulh85dFnUG7g"
      },
      "execution_count": null,
      "outputs": []
    },
    {
      "cell_type": "markdown",
      "source": [],
      "metadata": {
        "id": "2_uYgccUDp4_"
      }
    },
    {
      "cell_type": "code",
      "source": [
        "from mypackage import module1, module2\n",
        "\n",
        "# Use the function from the package modules\n",
        "print(module1.add(5, 3))\n",
        "print(module2.substract(5, 3))"
      ],
      "metadata": {
        "colab": {
          "base_uri": "https://localhost:8080/"
        },
        "id": "ttuGzkP0WYB1",
        "outputId": "3d19a6f7-3ce4-45f8-a571-99224f072c29"
      },
      "execution_count": null,
      "outputs": [
        {
          "output_type": "stream",
          "name": "stdout",
          "text": [
            "8\n",
            "2\n"
          ]
        }
      ]
    },
    {
      "cell_type": "markdown",
      "source": [
        "##Library"
      ],
      "metadata": {
        "id": "HuxFUspAW0VH"
      }
    },
    {
      "cell_type": "code",
      "source": [
        "import numpy as np\n",
        "import pandas as pd\n",
        "from sklearn.metrics import accuracy_score"
      ],
      "metadata": {
        "id": "4S7kKHsAW6Cc"
      },
      "execution_count": null,
      "outputs": []
    },
    {
      "cell_type": "markdown",
      "source": [
        "#Arithmetic Operation / Operasi Matematika"
      ],
      "metadata": {
        "id": "9uDtIREgdRMe"
      }
    },
    {
      "cell_type": "code",
      "source": [
        "a = 5\n",
        "b = 10\n",
        "\n",
        "print(a+b) #Tambah\n",
        "print(a-b) #Kurang\n",
        "print(a*b) #Kali\n",
        "print(a/b) #Bagi\n",
        "print(a//b) #Bagi bulat\n",
        "print(a%b) #Modulo / Sisa Bagi\n",
        "print (a**b) #Pangkat\n",
        "print(pow(a,b)) #Fungsi untuk pangkat"
      ],
      "metadata": {
        "colab": {
          "base_uri": "https://localhost:8080/"
        },
        "id": "oOWxkRw-dYUo",
        "outputId": "c75b0c13-c51f-493a-cd20-5fe3abc04fa8"
      },
      "execution_count": null,
      "outputs": [
        {
          "output_type": "stream",
          "name": "stdout",
          "text": [
            "15\n",
            "-5\n",
            "50\n",
            "0.5\n",
            "0\n",
            "5\n",
            "9765625\n",
            "9765625\n"
          ]
        }
      ]
    },
    {
      "cell_type": "markdown",
      "source": [
        "##Logical Operator"
      ],
      "metadata": {
        "id": "suDumxOMegL4"
      }
    },
    {
      "cell_type": "code",
      "source": [
        "x= 5\n",
        "y = 12\n",
        "\n",
        "print(x > 3 and y < 10) # And,mengharuskan kedua statement betul, untuk hasil akhir betul\n",
        "print(x > 3 or y < 10) # Or, salah satu statement betul maka, hasil akhir akan betul\n",
        "print(not(x > 3 and y < 10)) #Not maka kebalikan dari hasil akhir"
      ],
      "metadata": {
        "colab": {
          "base_uri": "https://localhost:8080/"
        },
        "id": "Cvkd5xWXejs8",
        "outputId": "97f7c134-1723-4703-922b-3229646c8c44"
      },
      "execution_count": null,
      "outputs": [
        {
          "output_type": "stream",
          "name": "stdout",
          "text": [
            "False\n",
            "True\n",
            "True\n"
          ]
        }
      ]
    },
    {
      "cell_type": "markdown",
      "source": [
        "#Conditional"
      ],
      "metadata": {
        "id": "45_CfTIVfnfY"
      }
    },
    {
      "cell_type": "code",
      "source": [
        "a = 15 #Assign Nilai\n",
        "\n",
        "if(a == 5): #Komparasi\n",
        "  print(\"A adalah 5\") #indent\n",
        "else:\n",
        "  print(\"A bukan 5\")"
      ],
      "metadata": {
        "colab": {
          "base_uri": "https://localhost:8080/"
        },
        "id": "E0ewUmvxfqcz",
        "outputId": "cf83baa4-f9a8-4b3f-b889-df6e12651c3d"
      },
      "execution_count": null,
      "outputs": [
        {
          "output_type": "stream",
          "name": "stdout",
          "text": [
            "A bukan 5\n"
          ]
        }
      ]
    },
    {
      "cell_type": "code",
      "source": [
        "a = 1200\n",
        "b = 33\n",
        "c = 200\n",
        "\n",
        "if(a > b or a > c) and a > 1000:\n",
        "  print(\"A adalah yang terbesar\")\n",
        "elif(a > b or a > c) and a<= 1000:\n",
        "  print(\"Salah satu kondisi adalah benar\")\n",
        "else:\n",
        "  print(\"Kondisi salah semua\")\n"
      ],
      "metadata": {
        "colab": {
          "base_uri": "https://localhost:8080/"
        },
        "id": "DWNyRONbgZpz",
        "outputId": "2811d505-f022-4380-e31a-811513b57e5c"
      },
      "execution_count": null,
      "outputs": [
        {
          "output_type": "stream",
          "name": "stdout",
          "text": [
            "A adalah yang terbesar\n"
          ]
        }
      ]
    },
    {
      "cell_type": "code",
      "source": [
        "a = 1000\n",
        "b = 33\n",
        "c = 200\n",
        "\n",
        "if(a > b or a > c) and a > 1000:\n",
        "  print(\"A adalah yang terbesar\")\n",
        "elif(a > b or a > c) and a<= 1000:\n",
        "  print(\"Salah satu kondisi adalah benar\")\n",
        "else:\n",
        "  print(\"Kondisi salah semua\")"
      ],
      "metadata": {
        "colab": {
          "base_uri": "https://localhost:8080/"
        },
        "id": "YKl8A-exhUG3",
        "outputId": "d976ddc5-58d6-4efd-cb5d-e9ffaba53c0f"
      },
      "execution_count": null,
      "outputs": [
        {
          "output_type": "stream",
          "name": "stdout",
          "text": [
            "Salah satu kondisi adalah benar\n"
          ]
        }
      ]
    },
    {
      "cell_type": "code",
      "source": [
        "a = 9\n",
        "b = 33\n",
        "c = 200\n",
        "\n",
        "if(a > b or a > c) and a > 1000:\n",
        "  print(\"A adalah yang terbesar\")\n",
        "elif(a > b or a > c) and a<= 1000:\n",
        "  print(\"Salah satu kondisi adalah benar\")\n",
        "else:\n",
        "  print(\"Kondisi salah semua\")"
      ],
      "metadata": {
        "colab": {
          "base_uri": "https://localhost:8080/"
        },
        "id": "ehHU5UgxhYQs",
        "outputId": "bd9df2cd-7584-44f1-c0cb-91478499a9ce"
      },
      "execution_count": null,
      "outputs": [
        {
          "output_type": "stream",
          "name": "stdout",
          "text": [
            "Kondisi salah semua\n"
          ]
        }
      ]
    },
    {
      "cell_type": "markdown",
      "source": [
        "##Struktur Data di Python"
      ],
      "metadata": {
        "id": "gYrCWEPil52r"
      }
    },
    {
      "cell_type": "markdown",
      "source": [
        "###list"
      ],
      "metadata": {
        "id": "yIkrNoXDmABu"
      }
    },
    {
      "cell_type": "code",
      "source": [
        "buah = [\"Pisang\",\"Apel\", \"Semangka\"]\n",
        "sayur = [\"Bayam\",\"Kangkung\",\"Tomat\"]"
      ],
      "metadata": {
        "id": "Ww4BkA1qmCLD"
      },
      "execution_count": null,
      "outputs": []
    },
    {
      "cell_type": "code",
      "source": [
        "#Memanggil buah Apel\n",
        "print(buah[1])"
      ],
      "metadata": {
        "colab": {
          "base_uri": "https://localhost:8080/"
        },
        "id": "RHklGpexl-M8",
        "outputId": "95c7c2f3-c6b1-4e6a-9dd0-ea98b8fbdc95"
      },
      "execution_count": null,
      "outputs": [
        {
          "output_type": "stream",
          "name": "stdout",
          "text": [
            "Apel\n"
          ]
        }
      ]
    },
    {
      "cell_type": "code",
      "source": [
        "#Ganti Semangka menjadi Melon\n",
        "buah[2] = \"Melon\"\n",
        "print(buah)"
      ],
      "metadata": {
        "colab": {
          "base_uri": "https://localhost:8080/"
        },
        "id": "A1AUj7FImkZd",
        "outputId": "022c704d-5d99-451b-f886-970730e5b6e3"
      },
      "execution_count": null,
      "outputs": [
        {
          "output_type": "stream",
          "name": "stdout",
          "text": [
            "['Pisang', 'Apel', 'Melon']\n"
          ]
        }
      ]
    },
    {
      "cell_type": "markdown",
      "source": [
        "###Tupel"
      ],
      "metadata": {
        "id": "554Uc-Cjmz_i"
      }
    },
    {
      "cell_type": "code",
      "source": [
        "buah = (\"Pisang\",\"Apel\", \"Semangka\")\n",
        "sayur = (\"Bayam\",\"Kangkung\",\"Tomat\")"
      ],
      "metadata": {
        "id": "AGY9ta1om2Ch"
      },
      "execution_count": null,
      "outputs": []
    },
    {
      "cell_type": "code",
      "source": [
        "#Memanggil Apel\n",
        "print(buah[1])"
      ],
      "metadata": {
        "colab": {
          "base_uri": "https://localhost:8080/"
        },
        "id": "TjVVddwzm-ZG",
        "outputId": "f62035e4-18c8-4dee-9ef5-8fdf139405a5"
      },
      "execution_count": null,
      "outputs": [
        {
          "output_type": "stream",
          "name": "stdout",
          "text": [
            "Apel\n"
          ]
        }
      ]
    },
    {
      "cell_type": "markdown",
      "source": [
        "###SET"
      ],
      "metadata": {
        "id": "bDuLq2mcnKYu"
      }
    },
    {
      "cell_type": "code",
      "source": [
        "dd(\"Jeruk)\")"
      ],
      "metadata": {
        "id": "0t9HYcMhng6p"
      },
      "execution_count": null,
      "outputs": []
    },
    {
      "cell_type": "code",
      "source": [
        "buah = {\"Pisang\",\"Apel\", \"Semangka\"}\n",
        "buah.add(\"Kiwi\")\n",
        "buah.add(\"Jeruk\")\n",
        "print(buah)"
      ],
      "metadata": {
        "colab": {
          "base_uri": "https://localhost:8080/"
        },
        "id": "p2vsK6DdnMC9",
        "outputId": "7c038955-09b2-4018-8c6f-f033ffd5ca7c"
      },
      "execution_count": null,
      "outputs": [
        {
          "output_type": "stream",
          "name": "stdout",
          "text": [
            "{'Semangka', 'Pisang', 'Jeruk', 'Kiwi', 'Apel'}\n"
          ]
        }
      ]
    },
    {
      "cell_type": "markdown",
      "source": [
        "###Dictionary"
      ],
      "metadata": {
        "id": "fBslSdPcnnqt"
      }
    },
    {
      "cell_type": "code",
      "source": [
        "car = {\n",
        "    \"brand\" : \"Ford\",\n",
        "    \"model\" : \"Mustang\",\n",
        "    \"year\" : 1964\n",
        "}"
      ],
      "metadata": {
        "id": "ZyttLRk6nqBO"
      },
      "execution_count": null,
      "outputs": []
    },
    {
      "cell_type": "code",
      "source": [
        "#Memanggil Nilai dalam dictionary\n",
        "print(car[\"brand\"])"
      ],
      "metadata": {
        "colab": {
          "base_uri": "https://localhost:8080/"
        },
        "id": "NBvUpqkcoiSj",
        "outputId": "4d0edce8-1785-455b-e804-bd2764cbee87"
      },
      "execution_count": null,
      "outputs": [
        {
          "output_type": "stream",
          "name": "stdout",
          "text": [
            "Ford\n"
          ]
        }
      ]
    },
    {
      "cell_type": "code",
      "source": [
        "#Ganti nilai dalam dictionary\n",
        "car[\"model\"] = \"Sedan\"\n",
        "print(car)"
      ],
      "metadata": {
        "colab": {
          "base_uri": "https://localhost:8080/"
        },
        "id": "kmh8iOZTosx4",
        "outputId": "db9d4194-fb71-4e82-a581-257304192cfb"
      },
      "execution_count": null,
      "outputs": [
        {
          "output_type": "stream",
          "name": "stdout",
          "text": [
            "{'brand': 'Ford', 'model': 'Sedan', 'year': 1964}\n"
          ]
        }
      ]
    }
  ]
}